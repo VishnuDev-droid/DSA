{
 "cells": [
  {
   "cell_type": "code",
   "execution_count": 7,
   "id": "0c33b69a",
   "metadata": {},
   "outputs": [
    {
     "data": {
      "text/plain": [
       "3"
      ]
     },
     "execution_count": 7,
     "metadata": {},
     "output_type": "execute_result"
    }
   ],
   "source": [
    "def lcs_recursive(seq1, seq2, idx1=0, idx2=0):\n",
    "    if idx1 == len(seq1) or idx2==len(seq2):\n",
    "        return 0\n",
    "    elif seq1[idx1] == seq2[idx2]:\n",
    "        return 1 + lcs_recursive(seq1, seq2, idx1+1, idx2+1)\n",
    "    else:\n",
    "        option1 = lcs_recursive(seq1, seq2, idx1+1, idx2)\n",
    "        option2 = lcs_recursive(seq1, seq2, idx1, idx2+1)\n",
    "        return max(option1, option2)\n",
    "\n",
    "\n",
    "lcs_recursive('serendipitous', 'precipitation')\n",
    "lcs_recursive('analogy', 'alchemy')"
   ]
  },
  {
   "cell_type": "code",
   "execution_count": null,
   "id": "b3f3f011",
   "metadata": {},
   "outputs": [],
   "source": []
  }
 ],
 "metadata": {
  "kernelspec": {
   "display_name": "Python 3 (ipykernel)",
   "language": "python",
   "name": "python3"
  },
  "language_info": {
   "codemirror_mode": {
    "name": "ipython",
    "version": 3
   },
   "file_extension": ".py",
   "mimetype": "text/x-python",
   "name": "python",
   "nbconvert_exporter": "python",
   "pygments_lexer": "ipython3",
   "version": "3.8.10"
  }
 },
 "nbformat": 4,
 "nbformat_minor": 5
}
