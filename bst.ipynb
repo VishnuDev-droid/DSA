{
 "cells": [
  {
   "cell_type": "code",
   "execution_count": 32,
   "id": "93b86631",
   "metadata": {},
   "outputs": [],
   "source": [
    "class User:\n",
    "    def __init__(self, username, name, user_email):\n",
    "        self.username = username\n",
    "        self.name = name\n",
    "        self.email = user_email\n",
    "        print(f\"User {self.username} Created\")\n",
    "    def __repr__(self):\n",
    "        return f'User(Username: {self.username}, Name: {self.name}, Email: {self.email})'\n",
    "    def __str__(self):\n",
    "        return self.__repr__()\n",
    "    \n",
    "class UserDataBase:\n",
    "    def __init__(self):\n",
    "        \"\"\"constructor for UserDataBase\"\"\"\n",
    "        self.users = []\n",
    "    \n",
    "    def insert(self, user):\n",
    "        \"\"\"Add user to database\"\"\"\n",
    "        i = 0\n",
    "        while i < len(self.users):\n",
    "            if self.users[i].username > user.username:\n",
    "                break\n",
    "            i+=1\n",
    "        self.users.insert(i, user)\n",
    "            \n",
    "    def find(self, username):\n",
    "        \"\"\"Find a user from database using username\"\"\"\n",
    "        for user in self.users:\n",
    "            if user.username == username:\n",
    "                return user\n",
    "    \n",
    "    def update(self, user):\n",
    "        \"\"\"Update user profile\"\"\"\n",
    "        target_user = self.find(user.username)\n",
    "        target_user.name, target_user.email = user.name, user.email\n",
    "\n",
    "    def list_all(self):\n",
    "        \"\"\"List all User profiles\"\"\"\n",
    "        return self.users"
   ]
  },
  {
   "cell_type": "code",
   "execution_count": 39,
   "id": "aa545bab",
   "metadata": {},
   "outputs": [],
   "source": [
    "class TreeNode():\n",
    "    def __init__(self, key):\n",
    "        self.key, self.left, self.right = key, None, None\n",
    "    \n",
    "    def height(self):\n",
    "        if self is None:\n",
    "            return 0\n",
    "        return 1 + max(TreeNode.height(self.left), TreeNode.height(self.right))\n",
    "    \n",
    "    def size(self):\n",
    "        if self is None:\n",
    "            return 0\n",
    "        return 1 + TreeNode.size(self.left) + TreeNode.size(self.right)\n",
    "\n",
    "    def traverse_in_order(self):\n",
    "        if self is None: \n",
    "            return []\n",
    "        return (TreeNode.traverse_in_order(self.left) + \n",
    "                [self.key] + \n",
    "                TreeNode.traverse_in_order(self.right))\n",
    "    \n",
    "    def display_keys(self, space='\\t', level=0):\n",
    "        # If the node is empty\n",
    "        if self is None:\n",
    "            print(space*level + '∅')\n",
    "            return   \n",
    "\n",
    "        # If the node is a leaf \n",
    "        if self.left is None and self.right is None:\n",
    "            print(space*level + str(self.key))\n",
    "            return\n",
    "\n",
    "        # If the node has children\n",
    "        self.display_keys(self.right, space, level+1)\n",
    "        print(space*level + str(self.key))\n",
    "        self.display_keys(self.left,space, level+1)    \n",
    "    \n",
    "    def to_tuple(self):\n",
    "        if self is None:\n",
    "            return None\n",
    "        if self.left is None and self.right is None:\n",
    "            return self.key\n",
    "        return TreeNode.to_tuple(self.left),  self.key, TreeNode.to_tuple(self.right)\n",
    "    \n",
    "    def __str__(self):\n",
    "        return \"BinaryTree <{}>\".format(self.to_tuple())\n",
    "    \n",
    "    def __repr__(self):\n",
    "        return \"BinaryTree <{}>\".format(self.to_tuple())\n",
    "    \n",
    "    @staticmethod    \n",
    "    def parse_tuple(data):\n",
    "        if data is None:\n",
    "            node = None\n",
    "        elif isinstance(data, tuple) and len(data) == 3:\n",
    "            node = TreeNode(data[1])\n",
    "            node.left = TreeNode.parse_tuple(data[0])\n",
    "            node.right = TreeNode.parse_tuple(data[2])\n",
    "        else:\n",
    "            node = TreeNode(data)\n",
    "        return node\n",
    "    @staticmethod\n",
    "    def remove_none(nums):\n",
    "        return [x for x in nums if x is not None]\n",
    "    @staticmethod\n",
    "    def is_BST(node):\n",
    "        \"\"\"Function returns is bst flag, min key, max key \"\"\"\n",
    "        if node is None:\n",
    "            return True, None, None\n",
    "        is_bst_l, min_l, max_l = TreeNode.is_BST(node.left)\n",
    "        is_bst_r, min_r, max_r = TreeNode.is_BST(node.right)\n",
    "        \n",
    "        print('is_bst_l: ', is_bst_l, node.key)\n",
    "        print('is_bst_r: ', is_bst_r, node.key)\n",
    "        is_bst_node = (is_bst_l and is_bst_r and \n",
    "                            (max_l is None or max_l < node.key ) and\n",
    "                            (min_l is None or node.key < min_l))\n",
    "        min_key = min(TreeNode.remove_none([min_l, node.key, min_r]))\n",
    "        max_key = max(TreeNode.remove_none([max_l, node.key, max_r]))\n",
    "\n",
    "        return is_bst_node, min_key, max_key\n",
    "    \n",
    "def remove_none(nums):\n",
    "    return [x for x in nums if x is not None]\n",
    "\n",
    "def is_BST(node):\n",
    "    if node is None:\n",
    "        return True, None, None\n",
    "    \n",
    "    is_bst_l, min_l, max_l = is_bst(node.left)\n",
    "    is_bst_r, min_r, max_r = is_bst(node.right)\n",
    "    \n",
    "    is_bst_node = (is_bst_l and is_bst_r and \n",
    "              (max_l is None or node.key > max_l) and \n",
    "              (min_r is None or node.key < min_r))\n",
    "    \n",
    "    min_key = min(remove_none([min_l, node.key, min_r]))\n",
    "    max_key = max(remove_none([max_l, node.key, max_r]))\n",
    "    print('is_bst_l: ', is_bst_l, node.left.key)\n",
    "    print('is_bst_r: ', is_bst_r, node.right.key)\n",
    "    # print(node.key, min_key, max_key, is_bst_node)\n",
    "        \n",
    "    return is_bst_node, min_key, max_key\n",
    "def display_keys(node, space='\\t', level=0):\n",
    "    # print(node.key if node else None, level)\n",
    "    \n",
    "    # If the node is empty\n",
    "    if node is None:\n",
    "        print(space*level + '∅')\n",
    "        return   \n",
    "    \n",
    "    # If the node is a leaf \n",
    "    if node.left is None and node.right is None:\n",
    "        print(space*level + str(node.key))\n",
    "        return\n",
    "    # If the node has children\n",
    "    display_keys(node.right, space, level+1)\n",
    "    print(space*level + str(node.key))\n",
    "    display_keys(node.left,space, level+1) "
   ]
  },
  {
   "cell_type": "code",
   "execution_count": 107,
   "id": "8ee24419",
   "metadata": {},
   "outputs": [
    {
     "name": "stdout",
     "output_type": "stream",
     "text": [
      "User aakash Created\n",
      "User biraj Created\n",
      "User hemanth Created\n",
      "User jadhesh Created\n",
      "User siddhant Created\n",
      "User sonaksh Created\n",
      "User vishal Created\n"
     ]
    }
   ],
   "source": [
    "aakash = User('aakash', 'Aakash Rai', 'aakash@example.com')\n",
    "biraj = User('biraj', 'Biraj Das', 'biraj@example.com')\n",
    "hemanth = User('hemanth', 'Hemanth Jain', 'hemanth@example.com')\n",
    "jadhesh = User('jadhesh', 'Jadhesh Verma', 'jadhesh@example.com')\n",
    "siddhant = User('siddhant', 'Siddhant Sinha', 'siddhant@example.com')\n",
    "sonaksh = User('sonaksh', 'Sonaksh Kumar', 'sonaksh@example.com')\n",
    "vishal = User('vishal', 'Vishal Goel', 'vishal@example.com')\n",
    "\n",
    "users = [aakash, biraj, hemanth, jadhesh, siddhant, sonaksh, vishal]"
   ]
  },
  {
   "cell_type": "code",
   "execution_count": null,
   "id": "ebbaf161",
   "metadata": {},
   "outputs": [],
   "source": [
    "users = "
   ]
  },
  {
   "cell_type": "code",
   "execution_count": 36,
   "id": "ca2db47c",
   "metadata": {},
   "outputs": [],
   "source": [
    "\n",
    "tree2 = TreeNode.parse_tuple((('aakash', 'biraj', 'hemanth')  , 'jadhesh', ('siddhant', 'sonaksh', 'vishal')))\n"
   ]
  },
  {
   "cell_type": "code",
   "execution_count": 37,
   "id": "90652e23",
   "metadata": {},
   "outputs": [
    {
     "name": "stdout",
     "output_type": "stream",
     "text": [
      "is_bst_l:  True biraj\n",
      "is_bst_r:  True sonaksh\n"
     ]
    },
    {
     "data": {
      "text/plain": [
       "(True, 'aakash', 'vishal')"
      ]
     },
     "execution_count": 37,
     "metadata": {},
     "output_type": "execute_result"
    }
   ],
   "source": [
    "is_BST(tree2)"
   ]
  },
  {
   "cell_type": "code",
   "execution_count": 40,
   "id": "8f142929",
   "metadata": {},
   "outputs": [
    {
     "name": "stdout",
     "output_type": "stream",
     "text": [
      "\t\tvishal\n",
      "\tsonaksh\n",
      "\t\tsiddhant\n",
      "jadhesh\n",
      "\t\themanth\n",
      "\tbiraj\n",
      "\t\taakash\n"
     ]
    }
   ],
   "source": [
    "display_keys(tree2)"
   ]
  },
  {
   "cell_type": "code",
   "execution_count": 43,
   "id": "ed9a9802",
   "metadata": {},
   "outputs": [],
   "source": [
    "class BSTNode:\n",
    "    def __init__(self, key, value=None):\n",
    "        self.key = key\n",
    "        self.value = value\n",
    "        self.left = None\n",
    "        self.right = None\n",
    "        self.parent = None"
   ]
  },
  {
   "cell_type": "code",
   "execution_count": 63,
   "id": "e5fed656",
   "metadata": {},
   "outputs": [],
   "source": [
    "# Level 0\n",
    "tree = BSTNode('jadhesh', value=jadhesh)"
   ]
  },
  {
   "cell_type": "code",
   "execution_count": 64,
   "id": "03524c4d",
   "metadata": {},
   "outputs": [],
   "source": [
    "# Level 1\n",
    "tree.left = BSTNode('biraj', value=biraj)\n",
    "tree.left.parent = tree\n",
    "tree.right = BSTNode('sonaksh', value=sonaksh)\n",
    "tree.right.parent = tree\n"
   ]
  },
  {
   "cell_type": "code",
   "execution_count": 65,
   "id": "8f82e0ba",
   "metadata": {},
   "outputs": [],
   "source": [
    "# Level 2\n",
    "tree.left.left =  BSTNode('aakash', value=aakash)\n",
    "tree.left.left.parent = tree.left\n",
    "tree.left.right =  BSTNode('hemanth', value=hemanth)\n",
    "tree.left.right.parent = tree.left\n",
    "\n",
    "\n",
    "tree.right.left =  BSTNode('siddhant', value=siddhant)\n",
    "tree.right.left.parent = tree.right\n",
    "tree.right.right =  BSTNode('vishal', value=vishal)\n",
    "tree.right.right.parent = tree.right\n"
   ]
  },
  {
   "cell_type": "code",
   "execution_count": 66,
   "id": "d8f23a77",
   "metadata": {},
   "outputs": [
    {
     "name": "stdout",
     "output_type": "stream",
     "text": [
      "\t\tvishal\n",
      "\tsonaksh\n",
      "\t\tsiddhant\n",
      "jadhesh\n",
      "\t\themanth\n",
      "\tbiraj\n",
      "\t\taakash\n"
     ]
    }
   ],
   "source": [
    "display_keys(tree)"
   ]
  },
  {
   "cell_type": "markdown",
   "id": "8095cbac",
   "metadata": {},
   "source": [
    "#### Insertion to a BST"
   ]
  },
  {
   "cell_type": "code",
   "execution_count": 95,
   "id": "27893cf2",
   "metadata": {},
   "outputs": [],
   "source": [
    "def insert(node, key, value):\n",
    "    if node is None:\n",
    "        node = BSTNode(key, value)\n",
    "    elif key < node.key:\n",
    "        node.left = insert(node.left, key, value)\n",
    "        node.left.parent = node\n",
    "    elif key > node.key:\n",
    "        node.right = insert(node.right, key, value)\n",
    "        node.right.parent = node\n",
    "    return node\n",
    "\n",
    "def find(node, key):\n",
    "    if node is None:\n",
    "        return None\n",
    "    if key == node.key:\n",
    "        return node\n",
    "    if key < node.key:\n",
    "        return find(node.left, key)\n",
    "    if key > node.key:\n",
    "        return find(node.right, key)\n",
    "\n",
    "def update(node, key, value):\n",
    "    target = find(node, key)\n",
    "    if target is not None:\n",
    "        target.value = value\n",
    "\n",
    "def list_all(node):\n",
    "    \"\"\"This is actually in-order traversal of a BST\"\"\"\n",
    "    if node is None:\n",
    "        return []\n",
    "    return list_all(node.left) + [(node.key, node.value)] + list_all(node.right)"
   ]
  },
  {
   "cell_type": "code",
   "execution_count": 89,
   "id": "ebec8993",
   "metadata": {},
   "outputs": [],
   "source": [
    "tree = insert(None, jadhesh.username, jadhesh)\n"
   ]
  },
  {
   "cell_type": "code",
   "execution_count": 90,
   "id": "09b253c5",
   "metadata": {},
   "outputs": [
    {
     "data": {
      "text/plain": [
       "<__main__.BSTNode at 0x7fa12b2bfe50>"
      ]
     },
     "execution_count": 90,
     "metadata": {},
     "output_type": "execute_result"
    }
   ],
   "source": [
    "insert(tree, biraj.username, biraj)\n",
    "insert(tree, sonaksh.username, sonaksh)\n",
    "insert(tree, aakash.username, aakash)\n",
    "insert(tree, hemanth.username, hemanth)\n",
    "insert(tree, siddhant.username, siddhant)\n",
    "insert(tree, vishal.username, siddhant)"
   ]
  },
  {
   "cell_type": "code",
   "execution_count": null,
   "id": "1eb0c4df",
   "metadata": {},
   "outputs": [],
   "source": []
  },
  {
   "cell_type": "code",
   "execution_count": 91,
   "id": "4fe393e7",
   "metadata": {},
   "outputs": [
    {
     "name": "stdout",
     "output_type": "stream",
     "text": [
      "\t\tvishal\n",
      "\tsonaksh\n",
      "\t\tsiddhant\n",
      "jadhesh\n",
      "\t\themanth\n",
      "\tbiraj\n",
      "\t\taakash\n"
     ]
    }
   ],
   "source": [
    "display_keys(tree)"
   ]
  },
  {
   "cell_type": "code",
   "execution_count": 93,
   "id": "7e9d7a77",
   "metadata": {},
   "outputs": [
    {
     "data": {
      "text/plain": [
       "('aakash', User(Username: aakash, Name: Aakash Rai, Email: aakash@example.com))"
      ]
     },
     "execution_count": 93,
     "metadata": {},
     "output_type": "execute_result"
    }
   ],
   "source": [
    "nn = find(tree, 'aakash')\n",
    "nn.key, nn.value"
   ]
  },
  {
   "cell_type": "code",
   "execution_count": 96,
   "id": "965eb1fa",
   "metadata": {},
   "outputs": [
    {
     "data": {
      "text/plain": [
       "[('aakash',\n",
       "  User(Username: aakash, Name: Aakash Rai, Email: aakash@example.com)),\n",
       " ('biraj', User(Username: biraj, Name: Biraj Das, Email: biraj@example.com)),\n",
       " ('hemanth',\n",
       "  User(Username: hemanth, Name: Hemanth Jain, Email: hemanth@example.com)),\n",
       " ('jadhesh',\n",
       "  User(Username: jadhesh, Name: Jadhesh Verma, Email: jadhesh@example.com)),\n",
       " ('siddhant',\n",
       "  User(Username: siddhant, Name: Siddhant Sinha, Email: siddhant@example.com)),\n",
       " ('sonaksh',\n",
       "  User(Username: sonaksh, Name: Sonaksh Kumar, Email: sonaksh@example.com)),\n",
       " ('vishal',\n",
       "  User(Username: siddhant, Name: Siddhant Sinha, Email: siddhant@example.com))]"
      ]
     },
     "execution_count": 96,
     "metadata": {},
     "output_type": "execute_result"
    }
   ],
   "source": [
    "list_all(tree)"
   ]
  },
  {
   "cell_type": "markdown",
   "id": "4f4293eb",
   "metadata": {},
   "source": [
    "##### Check a BST is balance \n",
    "property:\n",
    "1. Left sub tree balanced\n",
    "2. Right subtree balanced\n",
    "3. Height of left subtree & right subtree shoouldn't be greater than 1"
   ]
  },
  {
   "cell_type": "code",
   "execution_count": 101,
   "id": "e5fb6864",
   "metadata": {},
   "outputs": [],
   "source": []
  },
  {
   "cell_type": "code",
   "execution_count": 102,
   "id": "63b9e67d",
   "metadata": {},
   "outputs": [
    {
     "data": {
      "text/plain": [
       "(True, 3)"
      ]
     },
     "execution_count": 102,
     "metadata": {},
     "output_type": "execute_result"
    }
   ],
   "source": [
    "is_balanced(tree)"
   ]
  },
  {
   "cell_type": "markdown",
   "id": "f82a7cbe",
   "metadata": {},
   "source": [
    "#### Make Balance BT"
   ]
  },
  {
   "cell_type": "code",
   "execution_count": 116,
   "id": "e9afccca",
   "metadata": {},
   "outputs": [],
   "source": [
    "def is_balanced(node):\n",
    "    if node is None:\n",
    "        return True, 0\n",
    "    balanced_l, height_l = is_balanced(node.left)\n",
    "    balanced_r, height_r = is_balanced(node.right)\n",
    "    balanced = balanced_l and balanced_r and abs(height_l - height_r) <=1\n",
    "    height = 1 + max(height_l, height_r)\n",
    "    return balanced, height\n",
    "\n",
    "def make_balanced_bst(data, low=0, hi=None, parent=None):\n",
    "    if hi is None:\n",
    "        hi = len(data)-1\n",
    "    if low > hi:\n",
    "        return None\n",
    "    mid = (low + hi)//2\n",
    "    key, value = data[mid]\n",
    "    root = BSTNode(key, value)\n",
    "    root.parent = parent\n",
    "    root.left = make_balanced_bt(data, low, mid-1, root)\n",
    "    root.right = make_balanced_bt(data, mid+1, hi, root)\n",
    "    return root\n",
    "def tree_size(node):\n",
    "    if node is None:\n",
    "        return 0\n",
    "    return 1 + tree_size(node.left) + tree_size(node.right)\n",
    "def balance_bst(node):\n",
    "    return make_balanced_bst(list_all(node))"
   ]
  },
  {
   "cell_type": "code",
   "execution_count": 105,
   "id": "2445e515",
   "metadata": {},
   "outputs": [],
   "source": []
  },
  {
   "cell_type": "code",
   "execution_count": 127,
   "id": "be5f3eaa",
   "metadata": {},
   "outputs": [],
   "source": [
    "class TreeMap():\n",
    "    def __init__(self):\n",
    "        self.root = None\n",
    "        \n",
    "    def __setitem__(self, key, value):\n",
    "        node = find(self.root, key)\n",
    "        if not node:\n",
    "            self.root = insert(self.root, key, value)\n",
    "            self.root = balance_bst(self.root)\n",
    "        else:\n",
    "            update(self.root, key, value)\n",
    "            \n",
    "        \n",
    "    def __getitem__(self, key):\n",
    "        node = find(self.root, key)\n",
    "        return node.value if node else None\n",
    "    \n",
    "    def __iter__(self):\n",
    "        print('Inside iter')\n",
    "        return (x for x in list_all(self.root))\n",
    "    \n",
    "    def __len__(self):\n",
    "        return tree_size(self.root)\n",
    "    \n",
    "    def display(self):\n",
    "        return display_keys(self.root)"
   ]
  },
  {
   "cell_type": "code",
   "execution_count": 128,
   "id": "67fcd027",
   "metadata": {},
   "outputs": [],
   "source": [
    "treemap = TreeMap()"
   ]
  },
  {
   "cell_type": "code",
   "execution_count": 129,
   "id": "d41e757a",
   "metadata": {},
   "outputs": [],
   "source": [
    "treemap['aakash'] = aakash\n",
    "treemap['jadhesh'] = jadhesh\n",
    "treemap['sonaksh'] = sonaksh"
   ]
  },
  {
   "cell_type": "code",
   "execution_count": 130,
   "id": "d7f4df5a",
   "metadata": {},
   "outputs": [
    {
     "name": "stdout",
     "output_type": "stream",
     "text": [
      "Inside iter\n",
      "aakash User(Username: aakash, Name: Aakash Rai, Email: aakash@example.com)\n",
      "jadhesh User(Username: jadhesh, Name: Jadhesh Verma, Email: jadhesh@example.com)\n",
      "sonaksh User(Username: sonaksh, Name: Sonaksh Kumar, Email: sonaksh@example.com)\n"
     ]
    }
   ],
   "source": [
    "for key, value in treemap:\n",
    "    print(key, value)"
   ]
  },
  {
   "cell_type": "code",
   "execution_count": 123,
   "id": "d24fdd64",
   "metadata": {},
   "outputs": [
    {
     "data": {
      "text/plain": [
       "<__main__.TreeMap at 0x7fa12b1d5760>"
      ]
     },
     "execution_count": 123,
     "metadata": {},
     "output_type": "execute_result"
    }
   ],
   "source": [
    "treemap"
   ]
  },
  {
   "cell_type": "code",
   "execution_count": null,
   "id": "7255af14",
   "metadata": {},
   "outputs": [],
   "source": []
  }
 ],
 "metadata": {
  "kernelspec": {
   "display_name": "Python 3 (ipykernel)",
   "language": "python",
   "name": "python3"
  },
  "language_info": {
   "codemirror_mode": {
    "name": "ipython",
    "version": 3
   },
   "file_extension": ".py",
   "mimetype": "text/x-python",
   "name": "python",
   "nbconvert_exporter": "python",
   "pygments_lexer": "ipython3",
   "version": "3.8.10"
  }
 },
 "nbformat": 4,
 "nbformat_minor": 5
}
