{
 "cells": [
  {
   "cell_type": "markdown",
   "id": "931309fd",
   "metadata": {},
   "source": [
    "#### Sort numbers in ascending order"
   ]
  },
  {
   "cell_type": "code",
   "execution_count": null,
   "id": "3c946f98",
   "metadata": {},
   "outputs": [],
   "source": []
  },
  {
   "cell_type": "code",
   "execution_count": 3,
   "id": "7fca6705",
   "metadata": {},
   "outputs": [],
   "source": [
    "tests = []\n",
    "# List of numbers in random order\n",
    "test0 = {\n",
    "    'input': {\n",
    "        'nums': [4, 2, 6, 3, 4, 6, 2, 1]\n",
    "    },\n",
    "    'output': [1, 2, 2, 3, 4, 4, 6, 6]\n",
    "}\n",
    "tests.append(test0)\n",
    "# List of numbers in random order\n",
    "test1 = {\n",
    "    'input': {\n",
    "        'nums': [5, 2, 6, 1, 23, 7, -12, 12, -243, 0]\n",
    "    },\n",
    "    'output': [-243, -12, 0, 1, 2, 5, 6, 7, 12, 23]\n",
    "}\n",
    "tests.append(test1)\n",
    "# A list that's already sorted\n",
    "test2 = {\n",
    "    'input': {\n",
    "        'nums': [3, 5, 6, 8, 9, 10, 99]\n",
    "    },\n",
    "    'output': [3, 5, 6, 8, 9, 10, 99]\n",
    "}\n",
    "tests.append(test2)\n",
    "# A list that's sorted in descending order\n",
    "test3 = {\n",
    "    'input': {\n",
    "        'nums': [99, 10, 9, 8, 6, 5, 3]\n",
    "    },\n",
    "    'output': [3, 5, 6, 8, 9, 10, 99]\n",
    "}\n",
    "tests.append(test3)\n",
    "\n",
    "# A list containing repeating elements\n",
    "test4 = {\n",
    "    'input': {\n",
    "        'nums': [5, -12, 2, 6, 1, 23, 7, 7, -12, 6, 12, 1, -243, 1, 0]\n",
    "    },\n",
    "    'output': [-243, -12, -12, 0, 1, 1, 1, 2, 5, 6, 6, 7, 7, 12, 23]\n",
    "}\n",
    "tests.append(test4)\n",
    "# An empty list \n",
    "test5 = {\n",
    "    'input': {\n",
    "        'nums': []\n",
    "    },\n",
    "    'output': []\n",
    "}\n",
    "tests.append(test5)\n",
    "# A list containing one element repeated many times\n",
    "test7 = {\n",
    "    'input': {\n",
    "        'nums': [42, 42, 42, 42, 42, 42, 42]\n",
    "    },\n",
    "    'output': [42, 42, 42, 42, 42, 42, 42]\n",
    "}\n",
    "tests.append(test7)"
   ]
  },
  {
   "cell_type": "code",
   "execution_count": null,
   "id": "d7eee129",
   "metadata": {},
   "outputs": [],
   "source": [
    "def bubble_sort(nums):\n",
    "    \"\"\"quadratic complexity!!\"\"\"\n",
    "    for _ in range(len(nums)-1):\n",
    "        for i in (range(len(nums)-1)):\n",
    "            if nums[i] > nums[i+1]:\n",
    "                nums[i], nums[i+1] = nums[i+1], nums[i]\n",
    "    return nums\n",
    "import time\n",
    "start = time.time()\n",
    "for test in tests:\n",
    "    out = bubble_sort(**test['input'])\n",
    "    print(out==test['output'])\n",
    "print('Time taken: ', time.time() - start)\n",
    "    "
   ]
  },
  {
   "cell_type": "code",
   "execution_count": null,
   "id": "e5fdca20",
   "metadata": {},
   "outputs": [],
   "source": [
    "def merge_sort(nums):\n",
    "    if len(nums) <= 1:\n",
    "        return nums\n",
    "    mid = len(nums)//2\n",
    "    nums_l = nums[:mid]\n",
    "    nums_r = nums[mid:]\n",
    "    left_sort, right_sort = merge_sort(nums_l), merge_sort(nums_r)\n",
    "    sorted_merged = merge(left_sort, right_sort)\n",
    "    return sorted_merged\n",
    "\n",
    "def merge(left, right):\n",
    "    i, j, merged = 0, 0, []\n",
    "    while i < len(left) and j < len(right):\n",
    "        if left[i] < right[j]:\n",
    "            merged.append(left[i])\n",
    "            i+=1\n",
    "        else:\n",
    "            merged.append(right[j])\n",
    "            j+=1\n",
    "    left_tail = left[i:]\n",
    "    right_tail = right[j:]\n",
    "    return merged + left_tail + right_tail\n",
    "\n",
    "import time\n",
    "start = time.time()\n",
    "for test in tests:\n",
    "    out = merge_sort(**test['input'])\n",
    "    print(out==test['output'])\n",
    "print('Time taken: ', time.time() - start)"
   ]
  },
  {
   "cell_type": "code",
   "execution_count": null,
   "id": "65723ede",
   "metadata": {},
   "outputs": [],
   "source": []
  },
  {
   "cell_type": "code",
   "execution_count": null,
   "id": "30f1336e",
   "metadata": {},
   "outputs": [],
   "source": []
  },
  {
   "cell_type": "code",
   "execution_count": 5,
   "id": "31b88517",
   "metadata": {},
   "outputs": [
    {
     "name": "stdout",
     "output_type": "stream",
     "text": [
      " merge_sort: [4, 2, 6, 3, 4, 6, 2, 1]\n",
      "   merge_sort: [4, 2, 6, 3]\n",
      "     merge_sort: [4, 2]\n",
      "       merge_sort: [4]\n",
      "       merge_sort: [2]\n",
      "       merge: [4] [2]\n",
      "     merge_sort: [6, 3]\n",
      "       merge_sort: [6]\n",
      "       merge_sort: [3]\n",
      "       merge: [6] [3]\n",
      "     merge: [2, 4] [3, 6]\n",
      "   merge_sort: [4, 6, 2, 1]\n",
      "     merge_sort: [4, 6]\n",
      "       merge_sort: [4]\n",
      "       merge_sort: [6]\n",
      "       merge: [4] [6]\n",
      "     merge_sort: [2, 1]\n",
      "       merge_sort: [2]\n",
      "       merge_sort: [1]\n",
      "       merge: [2] [1]\n",
      "     merge: [4, 6] [1, 2]\n",
      "   merge: [2, 3, 4, 6] [1, 2, 4, 6]\n"
     ]
    },
    {
     "data": {
      "text/plain": [
       "[1, 2, 2, 3, 4, 4, 6, 6]"
      ]
     },
     "execution_count": 5,
     "metadata": {},
     "output_type": "execute_result"
    }
   ],
   "source": [
    "def merge_sort(nums, depth=0):\n",
    "    print('  '*depth, 'merge_sort:', nums)\n",
    "    if len(nums)<=1:\n",
    "        return nums\n",
    "    mid = len(nums)//2\n",
    "    nums_l = nums[:mid]\n",
    "    nums_r = nums[mid:]\n",
    "    \n",
    "    sorted_l = merge_sort(nums_l, depth+1)\n",
    "    sorted_r = merge_sort(nums_r, depth+1)\n",
    "    merged_list = merge(sorted_l, sorted_r, depth+1)\n",
    "    return merged_list\n",
    "\n",
    "def merge(nums_l, nums_r, depth=0):\n",
    "    print('  '*depth, 'merge:', nums_l, nums_r)\n",
    "    i, j, merged = 0, 0, []\n",
    "    while i < len(nums_l) and j < len(nums_r):\n",
    "        if nums_l[i] < nums_r[j]:\n",
    "            merged.append(nums_l[i])\n",
    "            i+=1\n",
    "        else:\n",
    "            merged.append(nums_r[j])\n",
    "            j+=1\n",
    "    nums_l_tail = nums_l[i:]\n",
    "    nums_r_tail = nums_r[j:]\n",
    "    return merged + nums_l_tail + nums_r_tail\n",
    "merge_sort(**tests[0]['input'])"
   ]
  },
  {
   "cell_type": "code",
   "execution_count": 6,
   "id": "95345a70",
   "metadata": {},
   "outputs": [
    {
     "data": {
      "text/plain": [
       "{'nums': [4, 2, 6, 3, 4, 6, 2, 1]}"
      ]
     },
     "execution_count": 6,
     "metadata": {},
     "output_type": "execute_result"
    }
   ],
   "source": [
    "tests[0]['input']"
   ]
  },
  {
   "cell_type": "code",
   "execution_count": null,
   "id": "b6df0960",
   "metadata": {},
   "outputs": [],
   "source": []
  },
  {
   "cell_type": "code",
   "execution_count": null,
   "id": "47def615",
   "metadata": {},
   "outputs": [],
   "source": []
  },
  {
   "cell_type": "code",
   "execution_count": null,
   "id": "3255c91f",
   "metadata": {},
   "outputs": [],
   "source": []
  },
  {
   "cell_type": "code",
   "execution_count": null,
   "id": "1ed28b44",
   "metadata": {},
   "outputs": [],
   "source": []
  },
  {
   "cell_type": "code",
   "execution_count": null,
   "id": "9a4cbaec",
   "metadata": {},
   "outputs": [],
   "source": []
  },
  {
   "cell_type": "code",
   "execution_count": null,
   "id": "b348326f",
   "metadata": {},
   "outputs": [],
   "source": []
  }
 ],
 "metadata": {
  "kernelspec": {
   "display_name": "Python 3 (ipykernel)",
   "language": "python",
   "name": "python3"
  },
  "language_info": {
   "codemirror_mode": {
    "name": "ipython",
    "version": 3
   },
   "file_extension": ".py",
   "mimetype": "text/x-python",
   "name": "python",
   "nbconvert_exporter": "python",
   "pygments_lexer": "ipython3",
   "version": "3.8.10"
  }
 },
 "nbformat": 4,
 "nbformat_minor": 5
}
